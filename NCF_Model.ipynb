{
  "nbformat": 4,
  "nbformat_minor": 0,
  "metadata": {
    "colab": {
      "provenance": [],
      "gpuType": "T4"
    },
    "kernelspec": {
      "name": "py38",
      "display_name": "py38"
    },
    "accelerator": "GPU"
  },
  "cells": [
    {
      "cell_type": "code",
      "metadata": {
        "id": "hZdyn7fqDqal"
      },
      "source": [
        "!wget -O mini.sh https://repo.anaconda.com/miniconda/Miniconda3-py38_4.8.2-Linux-x86_64.sh\n",
        "!chmod +x mini.sh\n",
        "!bash ./mini.sh -b -f -p /usr/local\n",
        "!conda install -q -y jupyter\n",
        "!conda install -q -y google-colab -c conda-forge\n",
        "!python -m ipykernel install --name \"py38\" --user"
      ],
      "execution_count": null,
      "outputs": []
    },
    {
      "cell_type": "code",
      "metadata": {
        "id": "H80WJWdPFLFL",
        "colab": {
          "base_uri": "https://localhost:8080/"
        },
        "outputId": "b18edd5f-c275-49d1-8dd9-4797da9734bb"
      },
      "source": [
        "# Reload the web page and execute this cell\n",
        "import sys\n",
        "print(\"User Current Version:-\", sys.version)"
      ],
      "execution_count": null,
      "outputs": [
        {
          "output_type": "stream",
          "name": "stdout",
          "text": [
            "User Current Version:- 3.8.16 (default, Mar  2 2023, 03:21:46) \n",
            "[GCC 11.2.0]\n"
          ]
        }
      ]
    },
    {
      "cell_type": "code",
      "source": [
        "pip install tensorflow"
      ],
      "metadata": {
        "id": "W0hdU63DvXMY"
      },
      "execution_count": null,
      "outputs": []
    },
    {
      "cell_type": "code",
      "source": [
        "pip install recommenders"
      ],
      "metadata": {
        "id": "T_mvKMM-n9qI"
      },
      "execution_count": null,
      "outputs": []
    },
    {
      "cell_type": "code",
      "source": [
        "pip install tf_slim"
      ],
      "metadata": {
        "id": "i5Js6PGHveIC"
      },
      "execution_count": null,
      "outputs": []
    },
    {
      "cell_type": "code",
      "source": [
        "import sys\n",
        "import pandas as pd\n",
        "import tensorflow as tf\n",
        "tf.get_logger().setLevel('ERROR') # only show error messages\n",
        "from recommenders.utils.timer import Timer\n",
        "from recommenders.models.ncf.ncf_singlenode import NCF\n",
        "from recommenders.models.ncf.dataset import Dataset as NCFDataset\n",
        "from recommenders.datasets import movielens\n",
        "from recommenders.utils.notebook_utils import is_jupyter\n",
        "from recommenders.datasets.python_splitters import python_chrono_split\n",
        "from recommenders.datasets.python_splitters import *\n",
        "from recommenders.evaluation.python_evaluation import (rmse, mae, rsquared, exp_var, map_at_k, ndcg_at_k, precision_at_k,\n",
        "                                                     recall_at_k, get_top_k_items)\n",
        "\n",
        "print(\"System version: {}\".format(sys.version))\n",
        "print(\"Pandas version: {}\".format(pd.__version__))\n",
        "print(\"Tensorflow version: {}\".format(tf.__version__))"
      ],
      "metadata": {
        "colab": {
          "base_uri": "https://localhost:8080/"
        },
        "id": "uJKQBWo7vjjZ",
        "outputId": "29a3d15c-6019-4712-8e3c-b80ea0d41979"
      },
      "execution_count": null,
      "outputs": [
        {
          "output_type": "stream",
          "name": "stdout",
          "text": [
            "System version: 3.8.16 (default, Mar  2 2023, 03:21:46) \n",
            "[GCC 11.2.0]\n",
            "Pandas version: 1.2.3\n",
            "Tensorflow version: 2.12.0\n"
          ]
        }
      ]
    },
    {
      "cell_type": "code",
      "source": [
        "# top k items to recommend\n",
        "TOP_K = 10\n",
        "\n",
        "# Model parameters\n",
        "EPOCHS = 20\n",
        "BATCH_SIZE = 128\n",
        "\n",
        "SEED = 42"
      ],
      "metadata": {
        "id": "MpUV3vJ1vrH2"
      },
      "execution_count": null,
      "outputs": []
    },
    {
      "cell_type": "code",
      "source": [
        "import pandas as pd\n",
        "df= pd.read_csv(\"/content/full_data.csv\")\n"
      ],
      "metadata": {
        "id": "4PGEsQcZzwbN"
      },
      "execution_count": null,
      "outputs": []
    },
    {
      "cell_type": "code",
      "source": [
        "df = df.rename(columns={'userId': 'userID'})\n"
      ],
      "metadata": {
        "id": "dlzqVX3_ll4O"
      },
      "execution_count": null,
      "outputs": []
    },
    {
      "cell_type": "code",
      "source": [
        "df = df.rename(columns={'movieId': 'itemID'})\n"
      ],
      "metadata": {
        "id": "8MKMFUVKl1P1"
      },
      "execution_count": null,
      "outputs": []
    },
    {
      "cell_type": "markdown",
      "source": [],
      "metadata": {
        "id": "SkHVmfncvYbQ"
      }
    },
    {
      "cell_type": "code",
      "source": [
        "df[\"IMAX\"].value_counts()"
      ],
      "metadata": {
        "colab": {
          "base_uri": "https://localhost:8080/"
        },
        "id": "86tEpo9Z0XE-",
        "outputId": "34048e05-1a56-4739-c8ad-4ec7faa372b0"
      },
      "execution_count": null,
      "outputs": [
        {
          "output_type": "execute_result",
          "data": {
            "text/plain": [
              "0    96691\n",
              "1     4145\n",
              "Name: IMAX, dtype: int64"
            ]
          },
          "metadata": {},
          "execution_count": 15
        }
      ]
    },
    {
      "cell_type": "code",
      "source": [
        "df['userID'].value_counts()"
      ],
      "metadata": {
        "colab": {
          "base_uri": "https://localhost:8080/"
        },
        "id": "S0dR4D1J0XOS",
        "outputId": "e88de217-1ac0-4e3d-de7b-edb0334b4457"
      },
      "execution_count": null,
      "outputs": [
        {
          "output_type": "execute_result",
          "data": {
            "text/plain": [
              "414    2698\n",
              "599    2478\n",
              "474    2108\n",
              "448    1864\n",
              "274    1346\n",
              "       ... \n",
              "320      20\n",
              "569      20\n",
              "442      20\n",
              "257      20\n",
              "406      20\n",
              "Name: userID, Length: 610, dtype: int64"
            ]
          },
          "metadata": {},
          "execution_count": 39
        }
      ]
    },
    {
      "cell_type": "code",
      "source": [
        "train, test = python_stratified_split(df, ratio=0.75)"
      ],
      "metadata": {
        "id": "lozwdVrq1EqF"
      },
      "execution_count": null,
      "outputs": []
    },
    {
      "cell_type": "code",
      "source": [
        "train[\"userID\"].unique()== test[\"userID\"].unique()"
      ],
      "metadata": {
        "id": "ZzAUIELgo5Gu"
      },
      "execution_count": null,
      "outputs": []
    },
    {
      "cell_type": "code",
      "source": [
        "test = test[test[\"userID\"].isin(train[\"userID\"].unique())]\n",
        "test = test[test[\"itemID\"].isin(train[\"itemID\"].unique())]"
      ],
      "metadata": {
        "id": "E8ICMxGtjs0u"
      },
      "execution_count": null,
      "outputs": []
    },
    {
      "cell_type": "code",
      "source": [
        "train_file = \"./train.csv\"\n",
        "test_file = \"./test.csv\"\n",
        "train.to_csv(train_file, index=False)\n",
        "test.to_csv(test_file, index=False)"
      ],
      "metadata": {
        "id": "WeN2sc6nmG2H"
      },
      "execution_count": null,
      "outputs": []
    },
    {
      "cell_type": "code",
      "source": [
        "data = NCFDataset(train_file=train_file, test_file=test_file, seed=SEED)"
      ],
      "metadata": {
        "id": "GiR7bU34mJKi",
        "colab": {
          "base_uri": "https://localhost:8080/"
        },
        "outputId": "d1d05d71-efd5-4853-9062-4d14a1601679"
      },
      "execution_count": null,
      "outputs": [
        {
          "output_type": "stream",
          "name": "stderr",
          "text": [
            "100%|██████████| 610/610 [00:55<00:00, 10.91it/s]\n"
          ]
        }
      ]
    },
    {
      "cell_type": "code",
      "source": [
        "model = NCF (\n",
        "    n_users=data.n_users,\n",
        "    n_items=data.n_items,\n",
        "    model_type=\"NeuMF\",\n",
        "    n_factors=4,\n",
        "    layer_sizes=[16,8,4],\n",
        "    n_epochs=EPOCHS,\n",
        "    batch_size=BATCH_SIZE,\n",
        "    learning_rate=1e-3,\n",
        "    verbose=10,\n",
        "    seed=SEED\n",
        ")"
      ],
      "metadata": {
        "colab": {
          "base_uri": "https://localhost:8080/"
        },
        "id": "TnDf46DWmLVO",
        "outputId": "66f2d2b7-0850-4fde-ba33-393d071ea2ea"
      },
      "execution_count": null,
      "outputs": [
        {
          "output_type": "stream",
          "name": "stderr",
          "text": [
            "/usr/local/lib/python3.8/site-packages/tensorflow/python/keras/engine/base_layer_v1.py:1694: UserWarning: `layer.apply` is deprecated and will be removed in a future version. Please use `layer.__call__` method instead.\n",
            "  warnings.warn('`layer.apply` is deprecated and '\n",
            "2023-06-24 19:11:03.613343: I tensorflow/compiler/xla/stream_executor/cuda/cuda_gpu_executor.cc:996] successful NUMA node read from SysFS had negative value (-1), but there must be at least one NUMA node, so returning NUMA node zero. See more at https://github.com/torvalds/linux/blob/v6.0/Documentation/ABI/testing/sysfs-bus-pci#L344-L355\n",
            "2023-06-24 19:11:04.141210: I tensorflow/compiler/xla/stream_executor/cuda/cuda_gpu_executor.cc:996] successful NUMA node read from SysFS had negative value (-1), but there must be at least one NUMA node, so returning NUMA node zero. See more at https://github.com/torvalds/linux/blob/v6.0/Documentation/ABI/testing/sysfs-bus-pci#L344-L355\n",
            "2023-06-24 19:11:04.141657: I tensorflow/compiler/xla/stream_executor/cuda/cuda_gpu_executor.cc:996] successful NUMA node read from SysFS had negative value (-1), but there must be at least one NUMA node, so returning NUMA node zero. See more at https://github.com/torvalds/linux/blob/v6.0/Documentation/ABI/testing/sysfs-bus-pci#L344-L355\n",
            "2023-06-24 19:11:05.041844: I tensorflow/compiler/xla/stream_executor/cuda/cuda_gpu_executor.cc:996] successful NUMA node read from SysFS had negative value (-1), but there must be at least one NUMA node, so returning NUMA node zero. See more at https://github.com/torvalds/linux/blob/v6.0/Documentation/ABI/testing/sysfs-bus-pci#L344-L355\n",
            "2023-06-24 19:11:05.043173: I tensorflow/compiler/xla/stream_executor/cuda/cuda_gpu_executor.cc:996] successful NUMA node read from SysFS had negative value (-1), but there must be at least one NUMA node, so returning NUMA node zero. See more at https://github.com/torvalds/linux/blob/v6.0/Documentation/ABI/testing/sysfs-bus-pci#L344-L355\n",
            "2023-06-24 19:11:05.043526: I tensorflow/compiler/xla/stream_executor/cuda/cuda_gpu_executor.cc:996] successful NUMA node read from SysFS had negative value (-1), but there must be at least one NUMA node, so returning NUMA node zero. See more at https://github.com/torvalds/linux/blob/v6.0/Documentation/ABI/testing/sysfs-bus-pci#L344-L355\n",
            "2023-06-24 19:11:05.044089: I tensorflow/core/common_runtime/gpu/gpu_device.cc:1635] Created device /job:localhost/replica:0/task:0/device:GPU:0 with 13736 MB memory:  -> device: 0, name: Tesla T4, pci bus id: 0000:00:04.0, compute capability: 7.5\n",
            "2023-06-24 19:11:05.052251: I tensorflow/compiler/mlir/mlir_graph_optimization_pass.cc:353] MLIR V1 optimization pass is not enabled\n"
          ]
        }
      ]
    },
    {
      "cell_type": "code",
      "source": [
        "model.fit(data)"
      ],
      "metadata": {
        "id": "pJL73IHZmPaF"
      },
      "execution_count": null,
      "outputs": []
    },
    {
      "cell_type": "code",
      "source": [
        "with Timer() as test_time:\n",
        "\n",
        "  users, items, preds = [], [], []\n",
        "  item = list(train.itemID.unique())\n",
        "  for user in train.userID.unique():\n",
        "      user = [user] * len(item)\n",
        "      users.extend(user)\n",
        "      items.extend(item)\n",
        "      preds.extend(list(model.predict(user, item, is_list=True)))\n",
        "\n",
        "  all_predictions = pd.DataFrame(data={\"userID\": users, \"itemID\":items, \"prediction\":preds})\n",
        "\n",
        "  merged = pd.merge(train[[\"userID\", \"itemID\",\"rating\"]], all_predictions, on=[\"userID\", \"itemID\"], how=\"outer\")\n",
        "  all_predictions = merged[merged.rating.isnull()].drop('rating', axis=1)\n",
        "\n",
        "print(\"Took {} seconds for prediction.\".format(test_time))"
      ],
      "metadata": {
        "id": "NCo2S1izmSDt"
      },
      "execution_count": null,
      "outputs": []
    },
    {
      "cell_type": "code",
      "source": [
        "train[[\"userID\", \"itemID\"]].head(5)"
      ],
      "metadata": {
        "colab": {
          "base_uri": "https://localhost:8080/",
          "height": 206
        },
        "id": "EzcweNFzEXoF",
        "outputId": "e2db95bb-37f6-4f55-af1c-987a687ae9f9"
      },
      "execution_count": null,
      "outputs": [
        {
          "output_type": "execute_result",
          "data": {
            "text/plain": [
              "       userID  itemID\n",
              "15656       1    3578\n",
              "6579        1    1127\n",
              "1135        1     157\n",
              "12997       1    2617\n",
              "1568        1     260"
            ],
            "text/html": [
              "<div>\n",
              "<style scoped>\n",
              "    .dataframe tbody tr th:only-of-type {\n",
              "        vertical-align: middle;\n",
              "    }\n",
              "\n",
              "    .dataframe tbody tr th {\n",
              "        vertical-align: top;\n",
              "    }\n",
              "\n",
              "    .dataframe thead th {\n",
              "        text-align: right;\n",
              "    }\n",
              "</style>\n",
              "<table border=\"1\" class=\"dataframe\">\n",
              "  <thead>\n",
              "    <tr style=\"text-align: right;\">\n",
              "      <th></th>\n",
              "      <th>userID</th>\n",
              "      <th>itemID</th>\n",
              "    </tr>\n",
              "  </thead>\n",
              "  <tbody>\n",
              "    <tr>\n",
              "      <th>15656</th>\n",
              "      <td>1</td>\n",
              "      <td>3578</td>\n",
              "    </tr>\n",
              "    <tr>\n",
              "      <th>6579</th>\n",
              "      <td>1</td>\n",
              "      <td>1127</td>\n",
              "    </tr>\n",
              "    <tr>\n",
              "      <th>1135</th>\n",
              "      <td>1</td>\n",
              "      <td>157</td>\n",
              "    </tr>\n",
              "    <tr>\n",
              "      <th>12997</th>\n",
              "      <td>1</td>\n",
              "      <td>2617</td>\n",
              "    </tr>\n",
              "    <tr>\n",
              "      <th>1568</th>\n",
              "      <td>1</td>\n",
              "      <td>260</td>\n",
              "    </tr>\n",
              "  </tbody>\n",
              "</table>\n",
              "</div>"
            ]
          },
          "metadata": {},
          "execution_count": 23
        }
      ]
    },
    {
      "cell_type": "code",
      "source": [
        "all_predictions.head(5)"
      ],
      "metadata": {
        "colab": {
          "base_uri": "https://localhost:8080/",
          "height": 206
        },
        "id": "rdz3WJOgmS-a",
        "outputId": "577a2930-600c-412f-ad8f-06cfc213390b"
      },
      "execution_count": null,
      "outputs": [
        {
          "output_type": "execute_result",
          "data": {
            "text/plain": [
              "       userID  itemID  prediction\n",
              "75630       1  122882    0.002459\n",
              "75631       1   80906    0.003930\n",
              "75632       1   74458    0.018611\n",
              "75633       1  106782    0.008386\n",
              "75634       1   58559    0.116817"
            ],
            "text/html": [
              "<div>\n",
              "<style scoped>\n",
              "    .dataframe tbody tr th:only-of-type {\n",
              "        vertical-align: middle;\n",
              "    }\n",
              "\n",
              "    .dataframe tbody tr th {\n",
              "        vertical-align: top;\n",
              "    }\n",
              "\n",
              "    .dataframe thead th {\n",
              "        text-align: right;\n",
              "    }\n",
              "</style>\n",
              "<table border=\"1\" class=\"dataframe\">\n",
              "  <thead>\n",
              "    <tr style=\"text-align: right;\">\n",
              "      <th></th>\n",
              "      <th>userID</th>\n",
              "      <th>itemID</th>\n",
              "      <th>prediction</th>\n",
              "    </tr>\n",
              "  </thead>\n",
              "  <tbody>\n",
              "    <tr>\n",
              "      <th>75630</th>\n",
              "      <td>1</td>\n",
              "      <td>122882</td>\n",
              "      <td>0.002459</td>\n",
              "    </tr>\n",
              "    <tr>\n",
              "      <th>75631</th>\n",
              "      <td>1</td>\n",
              "      <td>80906</td>\n",
              "      <td>0.003930</td>\n",
              "    </tr>\n",
              "    <tr>\n",
              "      <th>75632</th>\n",
              "      <td>1</td>\n",
              "      <td>74458</td>\n",
              "      <td>0.018611</td>\n",
              "    </tr>\n",
              "    <tr>\n",
              "      <th>75633</th>\n",
              "      <td>1</td>\n",
              "      <td>106782</td>\n",
              "      <td>0.008386</td>\n",
              "    </tr>\n",
              "    <tr>\n",
              "      <th>75634</th>\n",
              "      <td>1</td>\n",
              "      <td>58559</td>\n",
              "      <td>0.116817</td>\n",
              "    </tr>\n",
              "  </tbody>\n",
              "</table>\n",
              "</div>"
            ]
          },
          "metadata": {},
          "execution_count": 54
        }
      ]
    },
    {
      "cell_type": "code",
      "source": [
        "eval_map = map_at_k(test, all_predictions, col_prediction='prediction', k=TOP_K)\n",
        "eval_ndcg = ndcg_at_k(test, all_predictions, col_prediction='prediction', k=TOP_K)\n",
        "eval_precision = precision_at_k(test, all_predictions, col_prediction='prediction', k=TOP_K)\n",
        "eval_recall = recall_at_k(test, all_predictions, col_prediction='prediction', k=TOP_K)\n",
        "\n",
        "print(\"MAP:\\t%f\" % eval_map,\n",
        "      \"NDCG:\\t%f\" % eval_ndcg,\n",
        "      \"Precision@K:\\t%f\" % eval_precision,\n",
        "      \"Recall@K:\\t%f\" % eval_recall, sep='\\n')"
      ],
      "metadata": {
        "colab": {
          "base_uri": "https://localhost:8080/"
        },
        "id": "fr_br1SemXM8",
        "outputId": "5a784840-c4b6-4449-98ed-a8cdad837794"
      },
      "execution_count": null,
      "outputs": [
        {
          "output_type": "stream",
          "name": "stdout",
          "text": [
            "MAP:\t0.041111\n",
            "NDCG:\t0.218612\n",
            "Precision@K:\t0.204098\n",
            "Recall@K:\t0.084241\n"
          ]
        }
      ]
    },
    {
      "cell_type": "code",
      "source": [
        "model.predict(2, 91658)"
      ],
      "metadata": {
        "id": "271GayLDqxXn",
        "colab": {
          "base_uri": "https://localhost:8080/"
        },
        "outputId": "c75ee25a-0007-4465-cefe-f1e483e045ef"
      },
      "execution_count": null,
      "outputs": [
        {
          "output_type": "execute_result",
          "data": {
            "text/plain": [
              "0.9466220736503601"
            ]
          },
          "metadata": {},
          "execution_count": 67
        }
      ]
    },
    {
      "cell_type": "code",
      "source": [
        "all_predictions[all_predictions[\"userID\"]==4].sort_values('prediction',ascending=False)"
      ],
      "metadata": {
        "colab": {
          "base_uri": "https://localhost:8080/",
          "height": 423
        },
        "id": "m4zPLLexaeAa",
        "outputId": "d4f1da45-0431-4a10-a22b-9b9ba002cef1"
      },
      "execution_count": null,
      "outputs": [
        {
          "output_type": "execute_result",
          "data": {
            "text/plain": [
              "        userID  itemID    prediction\n",
              "102030       4     111  9.922211e-01\n",
              "103366       4     903  9.902501e-01\n",
              "102007       4    1299  9.871714e-01\n",
              "102003       4     904  9.848726e-01\n",
              "101954       4     858  9.824764e-01\n",
              "...        ...     ...           ...\n",
              "106908       4    5883  1.330203e-08\n",
              "106985       4    6316  1.328889e-08\n",
              "106993       4    2559  9.886341e-09\n",
              "106929       4   48678  7.588930e-09\n",
              "106945       4    5538  5.647073e-09\n",
              "\n",
              "[8463 rows x 3 columns]"
            ],
            "text/html": [
              "<div>\n",
              "<style scoped>\n",
              "    .dataframe tbody tr th:only-of-type {\n",
              "        vertical-align: middle;\n",
              "    }\n",
              "\n",
              "    .dataframe tbody tr th {\n",
              "        vertical-align: top;\n",
              "    }\n",
              "\n",
              "    .dataframe thead th {\n",
              "        text-align: right;\n",
              "    }\n",
              "</style>\n",
              "<table border=\"1\" class=\"dataframe\">\n",
              "  <thead>\n",
              "    <tr style=\"text-align: right;\">\n",
              "      <th></th>\n",
              "      <th>userID</th>\n",
              "      <th>itemID</th>\n",
              "      <th>prediction</th>\n",
              "    </tr>\n",
              "  </thead>\n",
              "  <tbody>\n",
              "    <tr>\n",
              "      <th>102030</th>\n",
              "      <td>4</td>\n",
              "      <td>111</td>\n",
              "      <td>9.922211e-01</td>\n",
              "    </tr>\n",
              "    <tr>\n",
              "      <th>103366</th>\n",
              "      <td>4</td>\n",
              "      <td>903</td>\n",
              "      <td>9.902501e-01</td>\n",
              "    </tr>\n",
              "    <tr>\n",
              "      <th>102007</th>\n",
              "      <td>4</td>\n",
              "      <td>1299</td>\n",
              "      <td>9.871714e-01</td>\n",
              "    </tr>\n",
              "    <tr>\n",
              "      <th>102003</th>\n",
              "      <td>4</td>\n",
              "      <td>904</td>\n",
              "      <td>9.848726e-01</td>\n",
              "    </tr>\n",
              "    <tr>\n",
              "      <th>101954</th>\n",
              "      <td>4</td>\n",
              "      <td>858</td>\n",
              "      <td>9.824764e-01</td>\n",
              "    </tr>\n",
              "    <tr>\n",
              "      <th>...</th>\n",
              "      <td>...</td>\n",
              "      <td>...</td>\n",
              "      <td>...</td>\n",
              "    </tr>\n",
              "    <tr>\n",
              "      <th>106908</th>\n",
              "      <td>4</td>\n",
              "      <td>5883</td>\n",
              "      <td>1.330203e-08</td>\n",
              "    </tr>\n",
              "    <tr>\n",
              "      <th>106985</th>\n",
              "      <td>4</td>\n",
              "      <td>6316</td>\n",
              "      <td>1.328889e-08</td>\n",
              "    </tr>\n",
              "    <tr>\n",
              "      <th>106993</th>\n",
              "      <td>4</td>\n",
              "      <td>2559</td>\n",
              "      <td>9.886341e-09</td>\n",
              "    </tr>\n",
              "    <tr>\n",
              "      <th>106929</th>\n",
              "      <td>4</td>\n",
              "      <td>48678</td>\n",
              "      <td>7.588930e-09</td>\n",
              "    </tr>\n",
              "    <tr>\n",
              "      <th>106945</th>\n",
              "      <td>4</td>\n",
              "      <td>5538</td>\n",
              "      <td>5.647073e-09</td>\n",
              "    </tr>\n",
              "  </tbody>\n",
              "</table>\n",
              "<p>8463 rows × 3 columns</p>\n",
              "</div>"
            ]
          },
          "metadata": {},
          "execution_count": 72
        }
      ]
    },
    {
      "cell_type": "code",
      "source": [
        "all_predictions.to_csv('all_predictions.csv', index=False)"
      ],
      "metadata": {
        "id": "e0_a9As_cXSG"
      },
      "execution_count": null,
      "outputs": []
    },
    {
      "cell_type": "code",
      "source": [
        "df2= pd.read_csv(\"/content/all_predictions.csv\")"
      ],
      "metadata": {
        "id": "ubsO4hMvkGQ0"
      },
      "execution_count": null,
      "outputs": []
    },
    {
      "cell_type": "code",
      "source": [
        "df2.head(5)"
      ],
      "metadata": {
        "colab": {
          "base_uri": "https://localhost:8080/",
          "height": 206
        },
        "id": "49B97ccdkVtw",
        "outputId": "8f4f64b0-3b7c-4053-e9f1-51679800af98"
      },
      "execution_count": null,
      "outputs": [
        {
          "output_type": "execute_result",
          "data": {
            "text/plain": [
              "   userID  itemID  prediction\n",
              "0       1  122882    0.002459\n",
              "1       1   80906    0.003930\n",
              "2       1   74458    0.018611\n",
              "3       1  106782    0.008386\n",
              "4       1   58559    0.116817"
            ],
            "text/html": [
              "<div>\n",
              "<style scoped>\n",
              "    .dataframe tbody tr th:only-of-type {\n",
              "        vertical-align: middle;\n",
              "    }\n",
              "\n",
              "    .dataframe tbody tr th {\n",
              "        vertical-align: top;\n",
              "    }\n",
              "\n",
              "    .dataframe thead th {\n",
              "        text-align: right;\n",
              "    }\n",
              "</style>\n",
              "<table border=\"1\" class=\"dataframe\">\n",
              "  <thead>\n",
              "    <tr style=\"text-align: right;\">\n",
              "      <th></th>\n",
              "      <th>userID</th>\n",
              "      <th>itemID</th>\n",
              "      <th>prediction</th>\n",
              "    </tr>\n",
              "  </thead>\n",
              "  <tbody>\n",
              "    <tr>\n",
              "      <th>0</th>\n",
              "      <td>1</td>\n",
              "      <td>122882</td>\n",
              "      <td>0.002459</td>\n",
              "    </tr>\n",
              "    <tr>\n",
              "      <th>1</th>\n",
              "      <td>1</td>\n",
              "      <td>80906</td>\n",
              "      <td>0.003930</td>\n",
              "    </tr>\n",
              "    <tr>\n",
              "      <th>2</th>\n",
              "      <td>1</td>\n",
              "      <td>74458</td>\n",
              "      <td>0.018611</td>\n",
              "    </tr>\n",
              "    <tr>\n",
              "      <th>3</th>\n",
              "      <td>1</td>\n",
              "      <td>106782</td>\n",
              "      <td>0.008386</td>\n",
              "    </tr>\n",
              "    <tr>\n",
              "      <th>4</th>\n",
              "      <td>1</td>\n",
              "      <td>58559</td>\n",
              "      <td>0.116817</td>\n",
              "    </tr>\n",
              "  </tbody>\n",
              "</table>\n",
              "</div>"
            ]
          },
          "metadata": {},
          "execution_count": 75
        }
      ]
    },
    {
      "cell_type": "code",
      "source": [
        "df2[df2[\"userID\"]==4].sort_values('prediction',ascending=False)"
      ],
      "metadata": {
        "colab": {
          "base_uri": "https://localhost:8080/",
          "height": 423
        },
        "id": "BsnuwkpgkZLa",
        "outputId": "814ec691-0911-4548-ad72-19c54c21086d"
      },
      "execution_count": null,
      "outputs": [
        {
          "output_type": "execute_result",
          "data": {
            "text/plain": [
              "       userID  itemID    prediction\n",
              "26400       4     111  9.922211e-01\n",
              "27736       4     903  9.902501e-01\n",
              "26377       4    1299  9.871714e-01\n",
              "26373       4     904  9.848726e-01\n",
              "26324       4     858  9.824764e-01\n",
              "...       ...     ...           ...\n",
              "31278       4    5883  1.330203e-08\n",
              "31355       4    6316  1.328889e-08\n",
              "31363       4    2559  9.886341e-09\n",
              "31299       4   48678  7.588930e-09\n",
              "31315       4    5538  5.647073e-09\n",
              "\n",
              "[8463 rows x 3 columns]"
            ],
            "text/html": [
              "<div>\n",
              "<style scoped>\n",
              "    .dataframe tbody tr th:only-of-type {\n",
              "        vertical-align: middle;\n",
              "    }\n",
              "\n",
              "    .dataframe tbody tr th {\n",
              "        vertical-align: top;\n",
              "    }\n",
              "\n",
              "    .dataframe thead th {\n",
              "        text-align: right;\n",
              "    }\n",
              "</style>\n",
              "<table border=\"1\" class=\"dataframe\">\n",
              "  <thead>\n",
              "    <tr style=\"text-align: right;\">\n",
              "      <th></th>\n",
              "      <th>userID</th>\n",
              "      <th>itemID</th>\n",
              "      <th>prediction</th>\n",
              "    </tr>\n",
              "  </thead>\n",
              "  <tbody>\n",
              "    <tr>\n",
              "      <th>26400</th>\n",
              "      <td>4</td>\n",
              "      <td>111</td>\n",
              "      <td>9.922211e-01</td>\n",
              "    </tr>\n",
              "    <tr>\n",
              "      <th>27736</th>\n",
              "      <td>4</td>\n",
              "      <td>903</td>\n",
              "      <td>9.902501e-01</td>\n",
              "    </tr>\n",
              "    <tr>\n",
              "      <th>26377</th>\n",
              "      <td>4</td>\n",
              "      <td>1299</td>\n",
              "      <td>9.871714e-01</td>\n",
              "    </tr>\n",
              "    <tr>\n",
              "      <th>26373</th>\n",
              "      <td>4</td>\n",
              "      <td>904</td>\n",
              "      <td>9.848726e-01</td>\n",
              "    </tr>\n",
              "    <tr>\n",
              "      <th>26324</th>\n",
              "      <td>4</td>\n",
              "      <td>858</td>\n",
              "      <td>9.824764e-01</td>\n",
              "    </tr>\n",
              "    <tr>\n",
              "      <th>...</th>\n",
              "      <td>...</td>\n",
              "      <td>...</td>\n",
              "      <td>...</td>\n",
              "    </tr>\n",
              "    <tr>\n",
              "      <th>31278</th>\n",
              "      <td>4</td>\n",
              "      <td>5883</td>\n",
              "      <td>1.330203e-08</td>\n",
              "    </tr>\n",
              "    <tr>\n",
              "      <th>31355</th>\n",
              "      <td>4</td>\n",
              "      <td>6316</td>\n",
              "      <td>1.328889e-08</td>\n",
              "    </tr>\n",
              "    <tr>\n",
              "      <th>31363</th>\n",
              "      <td>4</td>\n",
              "      <td>2559</td>\n",
              "      <td>9.886341e-09</td>\n",
              "    </tr>\n",
              "    <tr>\n",
              "      <th>31299</th>\n",
              "      <td>4</td>\n",
              "      <td>48678</td>\n",
              "      <td>7.588930e-09</td>\n",
              "    </tr>\n",
              "    <tr>\n",
              "      <th>31315</th>\n",
              "      <td>4</td>\n",
              "      <td>5538</td>\n",
              "      <td>5.647073e-09</td>\n",
              "    </tr>\n",
              "  </tbody>\n",
              "</table>\n",
              "<p>8463 rows × 3 columns</p>\n",
              "</div>"
            ]
          },
          "metadata": {},
          "execution_count": 76
        }
      ]
    },
    {
      "cell_type": "code",
      "source": [
        "model.predict(4,111)"
      ],
      "metadata": {
        "colab": {
          "base_uri": "https://localhost:8080/"
        },
        "id": "VYnfx32Nq7yN",
        "outputId": "2a243639-227e-4695-957b-3dfa359ad623"
      },
      "execution_count": null,
      "outputs": [
        {
          "output_type": "execute_result",
          "data": {
            "text/plain": [
              "0.9922210574150085"
            ]
          },
          "metadata": {},
          "execution_count": 77
        }
      ]
    },
    {
      "cell_type": "code",
      "source": [],
      "metadata": {
        "id": "E89J3EEdrVMo"
      },
      "execution_count": null,
      "outputs": []
    }
  ]
}